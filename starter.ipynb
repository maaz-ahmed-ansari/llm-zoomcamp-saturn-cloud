{
 "cells": [
  {
   "cell_type": "code",
   "execution_count": 6,
   "id": "666a2c9c-d557-48db-b39c-bd69bfdb3c46",
   "metadata": {
    "execution": {
     "iopub.execute_input": "2024-09-16T13:34:23.342773Z",
     "iopub.status.busy": "2024-09-16T13:34:23.342313Z",
     "iopub.status.idle": "2024-09-16T13:34:24.584969Z",
     "shell.execute_reply": "2024-09-16T13:34:24.584296Z",
     "shell.execute_reply.started": "2024-09-16T13:34:23.342739Z"
    }
   },
   "outputs": [
    {
     "name": "stdout",
     "output_type": "stream",
     "text": [
      "--2024-09-16 13:34:24--  https://raw.githubusercontent.com/alexeygrigorev/minsearch/main/minsearch.py\n",
      "Resolving raw.githubusercontent.com (raw.githubusercontent.com)... 185.199.111.133, 185.199.108.133, 185.199.110.133, ...\n",
      "Connecting to raw.githubusercontent.com (raw.githubusercontent.com)|185.199.111.133|:443... connected.\n",
      "HTTP request sent, awaiting response... 200 OK\n",
      "Length: 3832 (3.7K) [text/plain]\n",
      "Saving to: ‘minsearch.py’\n",
      "\n",
      "minsearch.py        100%[===================>]   3.74K  --.-KB/s    in 0s      \n",
      "\n",
      "2024-09-16 13:34:24 (62.7 MB/s) - ‘minsearch.py’ saved [3832/3832]\n",
      "\n"
     ]
    }
   ],
   "source": [
    "!rm -f minsearch.py\n",
    "!wget https://raw.githubusercontent.com/alexeygrigorev/minsearch/main/minsearch.py"
   ]
  },
  {
   "cell_type": "code",
   "execution_count": 21,
   "id": "9d81f049-3f41-4dde-8c68-7c55cd16ad3b",
   "metadata": {
    "execution": {
     "iopub.execute_input": "2024-09-16T13:37:40.087421Z",
     "iopub.status.busy": "2024-09-16T13:37:40.087079Z",
     "iopub.status.idle": "2024-09-16T13:37:40.090604Z",
     "shell.execute_reply": "2024-09-16T13:37:40.089851Z",
     "shell.execute_reply.started": "2024-09-16T13:37:40.087397Z"
    }
   },
   "outputs": [],
   "source": [
    "import os"
   ]
  },
  {
   "cell_type": "code",
   "execution_count": 25,
   "id": "689952e9-20fe-45aa-9d22-668a7491c51b",
   "metadata": {
    "execution": {
     "iopub.execute_input": "2024-09-16T13:38:55.001964Z",
     "iopub.status.busy": "2024-09-16T13:38:55.001636Z",
     "iopub.status.idle": "2024-09-16T13:38:55.015751Z",
     "shell.execute_reply": "2024-09-16T13:38:55.015249Z",
     "shell.execute_reply.started": "2024-09-16T13:38:55.001940Z"
    }
   },
   "outputs": [],
   "source": [
    "import json\n",
    "import minsearch\n",
    "\n",
    "from openai import OpenAI\n",
    "\n",
    "client = OpenAI()"
   ]
  },
  {
   "cell_type": "code",
   "execution_count": 7,
   "id": "f0c8fa8a-b9b8-4f66-94e7-0f4d4a4b909c",
   "metadata": {
    "execution": {
     "iopub.execute_input": "2024-09-16T13:34:25.831139Z",
     "iopub.status.busy": "2024-09-16T13:34:25.830764Z",
     "iopub.status.idle": "2024-09-16T13:34:26.187260Z",
     "shell.execute_reply": "2024-09-16T13:34:26.186704Z",
     "shell.execute_reply.started": "2024-09-16T13:34:25.831113Z"
    }
   },
   "outputs": [
    {
     "data": {
      "text/plain": [
       "<minsearch.Index at 0x7f09a5fdfe60>"
      ]
     },
     "execution_count": 7,
     "metadata": {},
     "output_type": "execute_result"
    }
   ],
   "source": [
    "import requests \n",
    "import minsearch\n",
    "\n",
    "docs_url = 'https://github.com/DataTalksClub/llm-zoomcamp/blob/main/01-intro/documents.json?raw=1'\n",
    "docs_response = requests.get(docs_url)\n",
    "documents_raw = docs_response.json()\n",
    "\n",
    "documents = []\n",
    "\n",
    "for course in documents_raw:\n",
    "    course_name = course['course']\n",
    "\n",
    "    for doc in course['documents']:\n",
    "        doc['course'] = course_name\n",
    "        documents.append(doc)\n",
    "\n",
    "index = minsearch.Index(\n",
    "    text_fields=[\"question\", \"text\", \"section\"],\n",
    "    keyword_fields=[\"course\"]\n",
    ")\n",
    "\n",
    "index.fit(documents)"
   ]
  },
  {
   "cell_type": "code",
   "execution_count": 8,
   "id": "5c956457-8ad3-4b47-a06b-608d52e9e5b9",
   "metadata": {
    "execution": {
     "iopub.execute_input": "2024-09-16T13:34:26.553218Z",
     "iopub.status.busy": "2024-09-16T13:34:26.552885Z",
     "iopub.status.idle": "2024-09-16T13:34:26.556970Z",
     "shell.execute_reply": "2024-09-16T13:34:26.556236Z",
     "shell.execute_reply.started": "2024-09-16T13:34:26.553197Z"
    }
   },
   "outputs": [],
   "source": [
    "def search(query):\n",
    "    boost = {'question': 3.0, 'section': 0.5}\n",
    "\n",
    "    results = index.search(\n",
    "        query=query,\n",
    "        filter_dict={'course': 'data-engineering-zoomcamp'},\n",
    "        boost_dict=boost,\n",
    "        num_results=5\n",
    "    )\n",
    "\n",
    "    return results"
   ]
  },
  {
   "cell_type": "code",
   "execution_count": 11,
   "id": "79738d56-c165-45ca-a5d6-1426b78f4b95",
   "metadata": {
    "execution": {
     "iopub.execute_input": "2024-09-16T13:35:09.181323Z",
     "iopub.status.busy": "2024-09-16T13:35:09.180983Z",
     "iopub.status.idle": "2024-09-16T13:35:09.185789Z",
     "shell.execute_reply": "2024-09-16T13:35:09.185096Z",
     "shell.execute_reply.started": "2024-09-16T13:35:09.181297Z"
    }
   },
   "outputs": [],
   "source": [
    "def build_prompt(query, search_results):\n",
    "    prompt_template = \"\"\"\n",
    "    You're a course teaching assistant. Answer the QUESTION based on the CONTEXT from the FAQ database.\n",
    "    Use only the facts from the CONTEXT when answering the QUESTION.\n",
    "    \n",
    "    QUESTION: {question}\n",
    "    \n",
    "    CONTEXT: \n",
    "    {context}\n",
    "    \"\"\".strip()\n",
    "\n",
    "    context = \"\"\n",
    "    \n",
    "    for doc in search_results:\n",
    "        context = context + f\"section: {doc['section']}\\nquestion: {doc['question']}\\nanswer: {doc['text']}\\n\\n\"\n",
    "    \n",
    "    prompt = prompt_template.format(question=query, context=context).strip()\n",
    "    return prompt\n",
    "\n",
    "def llm(prompt):\n",
    "    response = client.chat.completions.create(\n",
    "        model='gpt-4o-mini',\n",
    "        messages=[{\"role\": \"user\", \"content\": prompt}]\n",
    "    )\n",
    "    \n",
    "    return response.choices[0].message.content"
   ]
  },
  {
   "cell_type": "code",
   "execution_count": 12,
   "id": "9f29dd5e-14bd-4db4-8cc7-7762dafc93b6",
   "metadata": {
    "execution": {
     "iopub.execute_input": "2024-09-16T13:35:11.310330Z",
     "iopub.status.busy": "2024-09-16T13:35:11.309985Z",
     "iopub.status.idle": "2024-09-16T13:35:11.313785Z",
     "shell.execute_reply": "2024-09-16T13:35:11.313050Z",
     "shell.execute_reply.started": "2024-09-16T13:35:11.310305Z"
    }
   },
   "outputs": [],
   "source": [
    "def rag(query):\n",
    "    search_results = search(query)\n",
    "    prompt = build_prompt(query, search_results)\n",
    "    answer = llm(prompt)\n",
    "    return answer"
   ]
  },
  {
   "cell_type": "code",
   "execution_count": 26,
   "id": "3ef78910-f483-49e5-84de-5b38f39973b1",
   "metadata": {
    "execution": {
     "iopub.execute_input": "2024-09-16T13:39:07.598828Z",
     "iopub.status.busy": "2024-09-16T13:39:07.598336Z",
     "iopub.status.idle": "2024-09-16T13:39:09.174622Z",
     "shell.execute_reply": "2024-09-16T13:39:09.173946Z",
     "shell.execute_reply.started": "2024-09-16T13:39:07.598791Z"
    }
   },
   "outputs": [
    {
     "name": "stdout",
     "output_type": "stream",
     "text": [
      "To run Kafka in your project, you can use the following command in the terminal for Java Kafka:\n",
      "\n",
      "```bash\n",
      "java -cp build/libs/<jar_name>-1.0-SNAPSHOT.jar:out src/main/java/org/example/JsonProducer.java\n",
      "```\n",
      "\n",
      "If you are using Python, make sure to create a virtual environment and run the necessary requirements. Here’s how you can do it:\n",
      "\n",
      "1. Create a virtual environment and install required packages:\n",
      "   ```bash\n",
      "   python -m venv env\n",
      "   source env/bin/activate  # For MacOS and Linux\n",
      "   pip install -r ../requirements.txt\n",
      "   ```\n",
      "\n",
      "2. To activate the virtual environment, run:\n",
      "   ```bash\n",
      "   source env/bin/activate  # For MacOS and Linux\n",
      "   ```\n",
      "\n",
      "   For Windows, use:\n",
      "   ```bash\n",
      "   env\\Scripts\\activate\n",
      "   ```\n",
      "\n",
      "3. To deactivate the virtual environment when done, run:\n",
      "   ```bash\n",
      "   deactivate\n",
      "   ```\n",
      "\n",
      "Remember that you need to have Docker images up and running if you are using Docker with Kafka.\n"
     ]
    }
   ],
   "source": [
    "query = 'how do I run Kafka?'\n",
    "answer = rag(query)\n",
    "print(answer)"
   ]
  },
  {
   "cell_type": "code",
   "execution_count": null,
   "id": "ffd33f42-aeca-40f0-849c-e5af065ad666",
   "metadata": {},
   "outputs": [],
   "source": []
  }
 ],
 "metadata": {
  "kernelspec": {
   "display_name": "saturn (Python 3)",
   "language": "python",
   "name": "python3"
  },
  "language_info": {
   "codemirror_mode": {
    "name": "ipython",
    "version": 3
   },
   "file_extension": ".py",
   "mimetype": "text/x-python",
   "name": "python",
   "nbconvert_exporter": "python",
   "pygments_lexer": "ipython3",
   "version": "3.12.5"
  }
 },
 "nbformat": 4,
 "nbformat_minor": 5
}
